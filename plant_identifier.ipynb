{
 "cells": [
  {
   "cell_type": "code",
   "execution_count": 86,
   "metadata": {},
   "outputs": [],
   "source": [
    "import os\n",
    "from openai import OpenAI\n",
    "from datetime import datetime\n",
    "import os\n",
    "import sys\n",
    "import json\n",
    "import base64\n",
    "import requests\n",
    "from PIL import Image\n",
    "import matplotlib.pyplot as plt\n",
    "from prettyprinter import pprint\n",
    "from pydantic import BaseModel\n",
    "\n",
    "from utils_response import *"
   ]
  },
  {
   "cell_type": "code",
   "execution_count": 81,
   "metadata": {},
   "outputs": [],
   "source": [
    "file_path = os.path.expanduser('~/Desktop/plants2')\n",
    "jpg_files = [file for file in os.listdir(file_path) if file.endswith('.jpg')]\n",
    "\n",
    "filename = jpg_files[0]"
   ]
  },
  {
   "cell_type": "code",
   "execution_count": 82,
   "metadata": {},
   "outputs": [],
   "source": [
    "def encode_image(file_path, filename):\n",
    "    image_path = os.path.join(file_path, filename)\n",
    "    with open(image_path, 'rb') as file:\n",
    "        return base64.b64encode(file.read()).decode('utf-8')\n",
    "    \n",
    "def display_image(file_path, filename):\n",
    "    image_path = os.path.join(file_path, filename)\n",
    "    img = Image.open(image_path)\n",
    "\n",
    "    fig, axes = plt.subplots(1,1, figsize=(4,4))\n",
    "    axes.imshow(img)\n",
    "    axes.axis('off')\n",
    "    plt.show()\n",
    "\n",
    "base64_image = encode_image(file_path, filename)\n",
    "# display_image(file_path, filename)"
   ]
  },
  {
   "cell_type": "code",
   "execution_count": 83,
   "metadata": {},
   "outputs": [
    {
     "name": "stdout",
     "output_type": "stream",
     "text": [
      "{\"name\":\"Skunk_Cabbage\",\"desc\":\"A plant with large green leaves, often found in wetland areas, known for its skunky odor.\"}\n"
     ]
    }
   ],
   "source": [
    "class PlantResponse(BaseModel):\n",
    "    name: str\n",
    "    confidence: str\n",
    "    desc: str\n",
    "        \n",
    "\n",
    "client = OpenAI()\n",
    "\n",
    "system_message_text = ('Respond in json format with name: the most common plant name, use _ if the name uses two words; ' +\n",
    "                       'confidence: low/medium or high depending on your confidence; ' +\n",
    "                       'desc: short description ')\n",
    "prompt_message_text = \"What is the plant in this image?\"\n",
    "image_url = f\"data:image/jpeg;base64,{base64_image}\"\n",
    "detail = 'high'\n",
    "\n",
    "messages = []\n",
    "message_sys = {'role': 'system', 'content': [\n",
    "    {\n",
    "        'type': 'text',\n",
    "        'text': system_message_text\n",
    "    }\n",
    "]}\n",
    "\n",
    "message_prompt = {\"role\": \"user\",\"content\": [\n",
    "    {\n",
    "        \"type\": \"text\",\n",
    "        \"text\": \"What is the plant in this image?\"\n",
    "    },\n",
    "    {\n",
    "        \"type\": \"image_url\",\n",
    "        \"image_url\": {\n",
    "            \"url\": image_url,\n",
    "            \"detail\": detail\n",
    "          },\n",
    "        }\n",
    "    ],\n",
    "}\n",
    "messages.append(message_sys)\n",
    "messages.append(message_prompt)\n",
    "\n",
    "\n",
    "response = client.beta.chat.completions.parse(\n",
    "    model=\"gpt-4o-2024-08-06\",\n",
    "  messages=messages,\n",
    "  response_format=PlantResponse,#{'type': 'json_object'},\n",
    "  max_tokens=300,\n",
    ")\n",
    "\n",
    "print(response.choices[0].message.content)"
   ]
  },
  {
   "cell_type": "code",
   "execution_count": 59,
   "metadata": {},
   "outputs": [
    {
     "name": "stdout",
     "output_type": "stream",
     "text": [
      "0.0024124999999999997\n",
      "{\"name\":\"Helenium\",\"desc\":\"A perennial plant known for its vibrant, daisy-like flowers with red and yellow hues.\"}\n"
     ]
    }
   ],
   "source": [
    "print(get_response_cost(response))\n",
    "get_response_model(response)\n",
    "a = get_response_content(response)\n",
    "\n",
    "print(a)"
   ]
  },
  {
   "cell_type": "code",
   "execution_count": 84,
   "metadata": {},
   "outputs": [
    {
     "name": "stdout",
     "output_type": "stream",
     "text": [
      "('skunk_cabbage.jpg', 'Skunk_Cabbage')\n",
      "('PXL_20240907_104930484.jpg', 'Salvia')\n",
      "('silver_ragwort.jpg', 'Dusty_Miller')\n",
      "('PXL_20240907_105952127.MP.jpg', 'Cyclamen')\n",
      "('dahlia.jpg', 'Dahlia')\n",
      "('PXL_20240907_115158758.jpg', 'Helenium')\n",
      "('chrysanthemum.jpg', 'Dahlia')\n",
      "('japanese_maple.jpg', 'Japanese_maple')\n",
      "('PXL_20240907_103100075.jpg', 'Coreopsis')\n",
      "('PXL_20240907_115027852.jpg', 'Wisteria')\n",
      "('euphorbia.jpg', 'Euphorbia')\n",
      "('PXL_20240907_113623641.jpg', 'Heather')\n",
      "('PXL_20240907_115141514.jpg', 'Black_Eyed_Susan')\n",
      "('Helenium.jpg', 'Helenium')\n",
      "('PXL_20240907_110128752.jpg', 'Hare_barley')\n",
      "('PXL_20240907_104937426.jpg', 'blue_sage')\n",
      "('PXL_20240907_114408420.jpg', 'Snapdragon')\n",
      "('siberian_bugloss.jpg', 'Brunnera_macrophylla')\n",
      "('ageratum.jpg', 'Flossflower')\n",
      "('PXL_20240907_115025424.jpg', 'Wisteria')\n",
      "('PXL_20240907_104552053.jpg', 'Magnolia')\n",
      "[('skunk_cabbage.jpg', 'Skunk_Cabbage'), ('PXL_20240907_104930484.jpg', 'Salvia'), ('silver_ragwort.jpg', 'Dusty_Miller'), ('PXL_20240907_105952127.MP.jpg', 'Cyclamen'), ('dahlia.jpg', 'Dahlia'), ('PXL_20240907_115158758.jpg', 'Helenium'), ('chrysanthemum.jpg', 'Dahlia'), ('japanese_maple.jpg', 'Japanese_maple'), ('PXL_20240907_103100075.jpg', 'Coreopsis'), ('PXL_20240907_115027852.jpg', 'Wisteria'), ('euphorbia.jpg', 'Euphorbia'), ('PXL_20240907_113623641.jpg', 'Heather'), ('PXL_20240907_115141514.jpg', 'Black_Eyed_Susan'), ('Helenium.jpg', 'Helenium'), ('PXL_20240907_110128752.jpg', 'Hare_barley'), ('PXL_20240907_104937426.jpg', 'blue_sage'), ('PXL_20240907_114408420.jpg', 'Snapdragon'), ('siberian_bugloss.jpg', 'Brunnera_macrophylla'), ('ageratum.jpg', 'Flossflower'), ('PXL_20240907_115025424.jpg', 'Wisteria'), ('PXL_20240907_104552053.jpg', 'Magnolia')]\n"
     ]
    }
   ],
   "source": [
    "flowers = []\n",
    "count = 0\n",
    "for filename in jpg_files:\n",
    "    base64_image = encode_image(file_path, filename)\n",
    "\n",
    "    system_message_text = 'Respond in json format with name: the most common plant name, use _ if the name uses two words, desc: short description'\n",
    "    prompt_message_text = \"What is the plant in this image?\"\n",
    "    image_url = f\"data:image/jpeg;base64,{base64_image}\"\n",
    "    detail = 'high'\n",
    "\n",
    "    messages = []\n",
    "    message_sys = {'role': 'system', 'content': [\n",
    "        {\n",
    "            'type': 'text',\n",
    "            'text': system_message_text\n",
    "        }\n",
    "    ]}\n",
    "\n",
    "    message_prompt = {\"role\": \"user\",\"content\": [\n",
    "        {\n",
    "            \"type\": \"text\",\n",
    "            \"text\": \"What is the plant in this image?\"\n",
    "        },\n",
    "        {\n",
    "            \"type\": \"image_url\",\n",
    "            \"image_url\": {\n",
    "                \"url\": image_url,\n",
    "                \"detail\": detail\n",
    "            },\n",
    "            }\n",
    "        ],\n",
    "    }\n",
    "    messages.append(message_sys)\n",
    "    messages.append(message_prompt)\n",
    "    response = client.beta.chat.completions.parse(\n",
    "        model=\"gpt-4o-2024-08-06\",\n",
    "        messages=messages,\n",
    "        response_format=PlantResponse,#{'type': 'json_object'},\n",
    "        max_tokens=300\n",
    "        )\n",
    "    response_dict = json.loads(response.choices[0].message.content)\n",
    "    flowers.append((filename, response_dict['name']))\n",
    "    count += 1\n",
    "\n",
    "    if count == 100:\n",
    "        break\n",
    "    "
   ]
  },
  {
   "cell_type": "code",
   "execution_count": 72,
   "metadata": {},
   "outputs": [],
   "source": [
    "# ??get_response_content\n",
    "response.choices[0].message.content\n",
    "a = json.loads(response.choices[0].messagea.content)"
   ]
  },
  {
   "cell_type": "code",
   "execution_count": 74,
   "metadata": {},
   "outputs": [
    {
     "data": {
      "text/plain": [
       "'Helenium'"
      ]
     },
     "execution_count": 74,
     "metadata": {},
     "output_type": "execute_result"
    }
   ],
   "source": [
    "a['name']"
   ]
  },
  {
   "cell_type": "code",
   "execution_count": 85,
   "metadata": {},
   "outputs": [
    {
     "name": "stdout",
     "output_type": "stream",
     "text": [
      "Renamed: /Users/jamesbyers/Desktop/plants2/skunk_cabbage.jpg -> /Users/jamesbyers/Desktop/plants2/skunk_cabbage.jpg\n",
      "Renamed: /Users/jamesbyers/Desktop/plants2/pxl_20240907_104930484.jpg -> /Users/jamesbyers/Desktop/plants2/salvia.jpg\n",
      "Renamed: /Users/jamesbyers/Desktop/plants2/silver_ragwort.jpg -> /Users/jamesbyers/Desktop/plants2/dusty_miller.jpg\n",
      "Renamed: /Users/jamesbyers/Desktop/plants2/pxl_20240907_105952127.mp.jpg -> /Users/jamesbyers/Desktop/plants2/cyclamen.jpg\n",
      "Renamed: /Users/jamesbyers/Desktop/plants2/dahlia.jpg -> /Users/jamesbyers/Desktop/plants2/dahlia.jpg\n",
      "Renamed: /Users/jamesbyers/Desktop/plants2/pxl_20240907_115158758.jpg -> /Users/jamesbyers/Desktop/plants2/helenium.jpg\n",
      "Renamed: /Users/jamesbyers/Desktop/plants2/chrysanthemum.jpg -> /Users/jamesbyers/Desktop/plants2/dahlia_2.jpg\n",
      "Renamed: /Users/jamesbyers/Desktop/plants2/japanese_maple.jpg -> /Users/jamesbyers/Desktop/plants2/japanese_maple.jpg\n",
      "Renamed: /Users/jamesbyers/Desktop/plants2/pxl_20240907_103100075.jpg -> /Users/jamesbyers/Desktop/plants2/coreopsis.jpg\n",
      "Renamed: /Users/jamesbyers/Desktop/plants2/pxl_20240907_115027852.jpg -> /Users/jamesbyers/Desktop/plants2/wisteria.jpg\n",
      "Renamed: /Users/jamesbyers/Desktop/plants2/euphorbia.jpg -> /Users/jamesbyers/Desktop/plants2/euphorbia.jpg\n",
      "Renamed: /Users/jamesbyers/Desktop/plants2/pxl_20240907_113623641.jpg -> /Users/jamesbyers/Desktop/plants2/heather.jpg\n",
      "Renamed: /Users/jamesbyers/Desktop/plants2/pxl_20240907_115141514.jpg -> /Users/jamesbyers/Desktop/plants2/black_eyed_susan.jpg\n",
      "Renamed: /Users/jamesbyers/Desktop/plants2/helenium.jpg -> /Users/jamesbyers/Desktop/plants2/helenium_2.jpg\n",
      "Renamed: /Users/jamesbyers/Desktop/plants2/pxl_20240907_110128752.jpg -> /Users/jamesbyers/Desktop/plants2/hare_barley.jpg\n",
      "Renamed: /Users/jamesbyers/Desktop/plants2/pxl_20240907_104937426.jpg -> /Users/jamesbyers/Desktop/plants2/blue_sage.jpg\n",
      "Renamed: /Users/jamesbyers/Desktop/plants2/pxl_20240907_114408420.jpg -> /Users/jamesbyers/Desktop/plants2/snapdragon.jpg\n",
      "Renamed: /Users/jamesbyers/Desktop/plants2/siberian_bugloss.jpg -> /Users/jamesbyers/Desktop/plants2/brunnera_macrophylla.jpg\n",
      "Renamed: /Users/jamesbyers/Desktop/plants2/ageratum.jpg -> /Users/jamesbyers/Desktop/plants2/flossflower.jpg\n",
      "Renamed: /Users/jamesbyers/Desktop/plants2/pxl_20240907_115025424.jpg -> /Users/jamesbyers/Desktop/plants2/wisteria_2.jpg\n",
      "Renamed: /Users/jamesbyers/Desktop/plants2/pxl_20240907_104552053.jpg -> /Users/jamesbyers/Desktop/plants2/magnolia.jpg\n"
     ]
    }
   ],
   "source": [
    "file_path = os.path.expanduser('~/Desktop/plants2')\n",
    "\n",
    "# Function to handle renaming\n",
    "def rename_files(flowers, file_path):\n",
    "    # Dictionary to track name counts\n",
    "    name_counts = {}\n",
    "\n",
    "    for filename, name in flowers:\n",
    "        filename = filename.lower()\n",
    "        name = name.lower()\n",
    "        # Construct the new filename with a count if necessary\n",
    "        if name in name_counts:\n",
    "            name_counts[name] += 1\n",
    "            new_name = f\"{name}_{name_counts[name]}.jpg\"\n",
    "        else:\n",
    "            name_counts[name] = 1\n",
    "            new_name = f\"{name}.jpg\"\n",
    "        \n",
    "        # Full paths for the renaming operation\n",
    "        old_file_path = os.path.join(file_path, filename)\n",
    "        new_file_path = os.path.join(file_path, new_name)\n",
    "        \n",
    "        # Rename the file\n",
    "        if os.path.exists(old_file_path):\n",
    "            os.rename(old_file_path, new_file_path)\n",
    "            print(f\"Renamed: {old_file_path} -> {new_file_path}\")\n",
    "        else:\n",
    "            print(f\"File not found: {old_file_path}\")\n",
    "        \n",
    "# Now call the function with your flowers list and file path\n",
    "rename_files(flowers, file_path)"
   ]
  },
  {
   "cell_type": "code",
   "execution_count": null,
   "metadata": {},
   "outputs": [],
   "source": []
  }
 ],
 "metadata": {
  "kernelspec": {
   "display_name": "Python 3 (ipykernel)",
   "language": "python",
   "name": "python3"
  },
  "language_info": {
   "codemirror_mode": {
    "name": "ipython",
    "version": 3
   },
   "file_extension": ".py",
   "mimetype": "text/x-python",
   "name": "python",
   "nbconvert_exporter": "python",
   "pygments_lexer": "ipython3",
   "version": "3.10.2"
  }
 },
 "nbformat": 4,
 "nbformat_minor": 4
}
