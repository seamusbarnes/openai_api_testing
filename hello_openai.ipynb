{
 "cells": [
  {
   "cell_type": "code",
   "execution_count": 1,
   "metadata": {},
   "outputs": [
    {
     "name": "stdout",
     "output_type": "stream",
     "text": [
      "openai version: 1.42.0\n"
     ]
    }
   ],
   "source": [
    "from openai import OpenAI\n",
    "import openai\n",
    "import os\n",
    "\n",
    "print(f'openai version: {openai.__version__}')"
   ]
  },
  {
   "cell_type": "code",
   "execution_count": 2,
   "metadata": {},
   "outputs": [],
   "source": [
    "from utils import get_response_model, get_response_usage, get_response_content, get_response_cost, get_response_metadata"
   ]
  },
  {
   "cell_type": "code",
   "execution_count": 19,
   "metadata": {},
   "outputs": [],
   "source": [
    "def get_response_model(response):\n",
    "    return response.model\n",
    "def get_response_usage(response):\n",
    "    return response.usage.prompt_tokens, response.usage.completion_tokens\n",
    "def get_response_content(response):\n",
    "    return response.choices[0].message.content"
   ]
  },
  {
   "cell_type": "code",
   "execution_count": 20,
   "metadata": {},
   "outputs": [],
   "source": [
    "def get_response_cost(response):\n",
    "    pricing_units = 1e6\n",
    "    pricing = {'gpt-4o': (5.0, 15.0),\n",
    "               'gpt-4o-2024-08-06': (2.5, 10.0),\n",
    "               'gpt-4o-2024-05-13': (5.0, 15.0),\n",
    "               'gpt-4o-mini': (0.150, 0.600),\n",
    "               'gpt-4o-mini-2024-07-18': (0.150, 0.600),\n",
    "               'chatgpt-4o-latest': (5.00, 15.00),\n",
    "               'gpt-4-turbo': (10.00, 30.00),\n",
    "               'gpt-4-turbo-2024-04-09': (10.00, 30.00),\n",
    "               'gpt-4': (30.00, 60.00),\n",
    "               'gpt-4-32k': (60.00, 120.00),\n",
    "               'gpt-4-0125-preview': (10.00, 30.00),\n",
    "               'gpt-4-1106-preview': (10.00, 30.00),\n",
    "               'gpt-4-vision-preview': (10.00, 30.00),\n",
    "               'gpt-3.5-turbo-0125': (0.50, 1.50),\n",
    "               'gpt-3.5-turbo-instruct': (1.50, 2.00),\n",
    "               'gpt-3.5-turbo-1106': (1.00, 2.00),\n",
    "               'gpt-3.5-turbo-0613': (1.50, 2.00),\n",
    "               'gpt-3.5-turbo-16k-0613': (3.00, 4.00),\n",
    "               'gpt-3.5-turbo-0301': (1.50, 2.00),\n",
    "               'davinci-002': (2.00, 2.00),\n",
    "               'babbage-002': (0.40, 0.40)\n",
    "               }\n",
    "    \n",
    "    model = get_response_model(response)\n",
    "    input_tokens, output_tokens = get_response_usage(response)\n",
    "\n",
    "    input_rate, output_rate = pricing[model]\n",
    "    input_cost = (input_tokens/pricing_units) * input_rate\n",
    "    output_cost = (output_tokens/pricing_units) * output_rate\n",
    "\n",
    "    return input_cost + output_cost\n",
    "\n",
    "def get_response_metadata(response, verbose=True):\n",
    "    model = get_response_model(response)\n",
    "    input_tokens, output_tokens = get_response_usage(response)\n",
    "    cost = get_response_cost(response)\n",
    "    return model, (input_tokens, output_tokens), cost"
   ]
  },
  {
   "cell_type": "code",
   "execution_count": 6,
   "metadata": {},
   "outputs": [
    {
     "ename": "SyntaxError",
     "evalue": "invalid syntax (353898292.py, line 12)",
     "output_type": "error",
     "traceback": [
      "\u001b[0;36m  Cell \u001b[0;32mIn[6], line 12\u001b[0;36m\u001b[0m\n\u001b[0;31m    max_tokens=10\u001b[0m\n\u001b[0m              ^\u001b[0m\n\u001b[0;31mSyntaxError\u001b[0m\u001b[0;31m:\u001b[0m invalid syntax\n"
     ]
    }
   ],
   "source": [
    "client = OpenAI()\n",
    "\n",
    "response = client.chat.completions.create(\n",
    "    model=\"gpt-4o\",\n",
    "    messages=[\n",
    "        {\"role\": \"system\",\n",
    "         \"content\": \"You are a helpful assistant.\"},\n",
    "        {\n",
    "            \"role\": \"user\",\n",
    "            \"content\": \"what happened on january 1st 2022\"\n",
    "        },\n",
    "    ],\n",
    "    max_tokens=10\n",
    ")"
   ]
  },
  {
   "cell_type": "code",
   "execution_count": 4,
   "metadata": {},
   "outputs": [
    {
     "name": "stdout",
     "output_type": "stream",
     "text": [
      "Response metadata:\n",
      "model = gpt-4o-2024-05-13\n",
      "input tokens = 27\n",
      "output tokens = 266\n",
      "cost = $0.0041\n",
      "\n"
     ]
    }
   ],
   "source": [
    "model, tokens, cost = get_response_metadata(response)\n",
    "print((f'Response metadata:\\n' +\n",
    "       f'model = {model}\\n' + \n",
    "       f'input tokens = {tokens[0]}\\n' +\n",
    "       f'output tokens = {tokens[1]}\\n' +\n",
    "       f'cost = ${cost:.4f}\\n'))"
   ]
  },
  {
   "cell_type": "code",
   "execution_count": 5,
   "metadata": {},
   "outputs": [
    {
     "name": "stdout",
     "output_type": "stream",
     "text": [
      "On January 1st, 2022, several notable events took place around the world:\n",
      "\n",
      "1. **Global Observances and New Year's Celebrations**: People across the globe celebrated New Year's Day with various cultural and traditional festivities, although many events were subdued or altered due to the COVID-19 pandemic.\n",
      "\n",
      "2. **Politics and Government**:\n",
      "   - **Polish Presidency of the EU Council**: France took over the rotating presidency of the Council of the European Union from Slovenia.\n",
      "   - **Swiss Presidency**: Ignazio Cassis became the President of Switzerland.\n",
      "\n",
      "3. **Weather and Natural Events**:\n",
      "   - Severe weather events and natural disasters occurred in different parts of the world. Specific details may vary, but January often sees winter storms in the Northern Hemisphere.\n",
      "\n",
      "4. **Sports**:\n",
      "   - Various sports events took place, including college bowl games in the United States as part of the college football season, such as the Rose Bowl and Sugar Bowl.\n",
      "\n",
      "5. **COVID-19 Pandemic**:\n",
      "   - The world continued to grapple with the COVID-19 pandemic, with the Omicron variant leading to rising infection rates in many countries. Governments introduced measures to curb the spread, including travel restrictions and vaccination campaigns.\n",
      "\n",
      "If you're looking for information about a specific event or detail, feel free to provide more context!\n"
     ]
    }
   ],
   "source": [
    "print(response.choices[0].message.content)"
   ]
  },
  {
   "cell_type": "code",
   "execution_count": null,
   "metadata": {},
   "outputs": [],
   "source": [
    "|"
   ]
  }
 ],
 "metadata": {
  "kernelspec": {
   "display_name": "Python (myenv)",
   "language": "python",
   "name": "myenv"
  },
  "language_info": {
   "codemirror_mode": {
    "name": "ipython",
    "version": 3
   },
   "file_extension": ".py",
   "mimetype": "text/x-python",
   "name": "python",
   "nbconvert_exporter": "python",
   "pygments_lexer": "ipython3",
   "version": "3.10.2"
  }
 },
 "nbformat": 4,
 "nbformat_minor": 2
}
