{
 "cells": [
  {
   "cell_type": "code",
   "execution_count": 1,
   "metadata": {},
   "outputs": [],
   "source": [
    "import os\n",
    "from openai import OpenAI\n",
    "from datetime import datetime\n",
    "from utils import *\n",
    "import json\n",
    "\n",
    "def log_interaction(\n",
    "        response,\n",
    "        messages,\n",
    "        timestamp_call,\n",
    "        timestamp_response,\n",
    "        data_path='data/',\n",
    "        log_file='log.txt'):\n",
    "    \n",
    "    model, tokens, cost = get_response_metadata(response)\n",
    "    response_message = get_response_content(response)\n",
    "    response_time = (timestamp_response - timestamp_call).total_seconds()\n",
    "\n",
    "    timestamp_call_str = timestamp_call.strftime('%Y-%m-%d %H:%M:%S')\n",
    "    timestamp_response_str = timestamp_response.strftime('%Y-%m-%d %H:%M:%S')\n",
    "\n",
    "    metadata = {\"timestamp_call\": timestamp_call_str,\n",
    "                \"timestamp_response\": timestamp_response_str,\n",
    "                \"input_tokens\": tokens[0],\n",
    "                \"output_tokens\": tokens[1],\n",
    "                \"total_tokens\": sum(tokens),\n",
    "                \"input_message\": messages,\n",
    "                \"response_message\": response_message,\n",
    "                \"model\": model,\n",
    "                \"cost ($)\": f'{cost:.4f}',\n",
    "                \"response_time (s)\": response_time,  # Example response time in seconds\n",
    "            }\n",
    "    \n",
    "    with open(os.path.join(data_path, log_file), 'a') as file:\n",
    "        json.dump(metadata, file, indent=4)\n",
    "        file.write('\\n')\n",
    "    return\n",
    "\n",
    "def timestamp_pretty():\n",
    "    return datetime.now().strftime('%Y-%m-%d %H:%M:%S')"
   ]
  },
  {
   "cell_type": "code",
   "execution_count": 2,
   "metadata": {},
   "outputs": [],
   "source": [
    "def api_conversation(\n",
    "        message,\n",
    "        messages=None,\n",
    "        client=None,\n",
    "        model='gpt-4o',\n",
    "        system_prompt='You are a helpful assistant.',\n",
    "        max_tokens=None,\n",
    "        temperature=None):\n",
    "\n",
    "    if not client:\n",
    "        client = OpenAI()\n",
    "\n",
    "    if not messages:\n",
    "        messages = [{\n",
    "            'role': 'system',\n",
    "            'content': system_prompt\n",
    "            }]\n",
    "        \n",
    "    messages.append({\n",
    "        'role': 'user',\n",
    "        'content': message\n",
    "        })\n",
    "\n",
    "    t0 = datetime.now()\n",
    "    response = client.chat.completions.create(\n",
    "        model=model,\n",
    "        messages=messages,\n",
    "        n=1,\n",
    "        max_tokens=max_tokens,\n",
    "        response_format={'type': 'text'},\n",
    "        temperature=temperature\n",
    "    )\n",
    "    t1 = datetime.now()\n",
    "\n",
    "    messages.append({\n",
    "        'role': 'assistant',\n",
    "        'content': get_response_content(response)\n",
    "        })\n",
    "    \n",
    "    return response, messages, t0, t1      "
   ]
  },
  {
   "cell_type": "code",
   "execution_count": 5,
   "metadata": {},
   "outputs": [
    {
     "name": "stdout",
     "output_type": "stream",
     "text": [
      "We are discussing the distance of Pluto from Earth and its classification in the Solar System. Specifically:\n",
      "\n",
      "1. **Distance of Pluto from Earth**: On average, Pluto is about 3.67 billion miles (5.9 billion kilometers) away from Earth.\n",
      "2. **Pluto's Classification**: Pluto was reclassified from a full-fledged planet to a \"dwarf planet\" in 2006 by the International Astronomical Union (IAU). The reclassification was based on the criteria set by the IAU, where Pluto did not meet the requirement of having cleared its orbital neighborhood of other debris.\n",
      "(229, 123)\n"
     ]
    }
   ],
   "source": [
    "prompt = 'what are we talking about'\n",
    "response, messages, t0, t1 = api_conversation(message=prompt, messages=messages)\n",
    "print(get_response_content(response))  \n",
    "print(get_response_tokens(response))"
   ]
  },
  {
   "cell_type": "code",
   "execution_count": 7,
   "metadata": {},
   "outputs": [
    {
     "data": {
      "text/plain": [
       "[{'role': 'system', 'content': 'You are a helpful assistant.'},\n",
       " {'role': 'user',\n",
       "  'content': 'how far away is the planet pluto (and is it technically a plsen)?'},\n",
       " {'role': 'assistant',\n",
       "  'content': 'Pluto is, on average, about 3.67 billion miles (5.9 billion kilometers) away from Earth. This distance can vary significantly due to the elliptical nature of Pluto\\'s orbit around the Sun.\\n\\nRegarding its status, Pluto is currently classified as a \"dwarf planet.\" This reclassification happened in 2006 when the International Astronomical Union (IAU) defined the term \"planet\" in a way that excluded Pluto. According to the IAU, a full-fledged planet must meet three criteria:\\n1. It must orbit the Sun.\\n2. It must be spherical in shape due to its gravity.\\n3. It must have \"cleared the neighborhood\" around its orbit, meaning it must be gravitationally dominant enough to clear its orbit of other debris.\\n\\nPluto meets the first two criteria but does not meet the third, which led to its reclassification as a dwarf planet.'},\n",
       " {'role': 'user', 'content': 'what are we talking about'},\n",
       " {'role': 'assistant',\n",
       "  'content': 'We are discussing the distance of Pluto from Earth and its classification in the Solar System. Specifically:\\n\\n1. **Distance of Pluto from Earth**: On average, Pluto is about 3.67 billion miles (5.9 billion kilometers) away from Earth.\\n2. **Pluto\\'s Classification**: Pluto was reclassified from a full-fledged planet to a \"dwarf planet\" in 2006 by the International Astronomical Union (IAU). The reclassification was based on the criteria set by the IAU, where Pluto did not meet the requirement of having cleared its orbital neighborhood of other debris.'}]"
      ]
     },
     "execution_count": 7,
     "metadata": {},
     "output_type": "execute_result"
    }
   ],
   "source": [
    "messages"
   ]
  }
 ],
 "metadata": {
  "kernelspec": {
   "display_name": "Python (myenv)",
   "language": "python",
   "name": "myenv"
  },
  "language_info": {
   "codemirror_mode": {
    "name": "ipython",
    "version": 3
   },
   "file_extension": ".py",
   "mimetype": "text/x-python",
   "name": "python",
   "nbconvert_exporter": "python",
   "pygments_lexer": "ipython3",
   "version": "3.10.2"
  }
 },
 "nbformat": 4,
 "nbformat_minor": 2
}
